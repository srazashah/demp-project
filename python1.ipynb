{
  "nbformat": 4,
  "nbformat_minor": 0,
  "metadata": {
    "colab": {
      "provenance": [],
      "authorship_tag": "ABX9TyNz7lR4jGY9iib6EIytimJq",
      "include_colab_link": true
    },
    "kernelspec": {
      "name": "python3",
      "display_name": "Python 3"
    },
    "language_info": {
      "name": "python"
    }
  },
  "cells": [
    {
      "cell_type": "markdown",
      "metadata": {
        "id": "view-in-github",
        "colab_type": "text"
      },
      "source": [
        "<a href=\"https://colab.research.google.com/github/srazashah/demp-project/blob/main/python1.ipynb\" target=\"_parent\"><img src=\"https://colab.research.google.com/assets/colab-badge.svg\" alt=\"Open In Colab\"/></a>"
      ]
    },
    {
      "cell_type": "code",
      "execution_count": null,
      "metadata": {
        "colab": {
          "base_uri": "https://localhost:8080/"
        },
        "id": "RhTPQhY6AfDy",
        "outputId": "2b611b86-36e6-49d7-fce9-051a9da15538"
      },
      "outputs": [
        {
          "output_type": "stream",
          "name": "stdout",
          "text": [
            "This is data Engeering\n"
          ]
        }
      ],
      "source": [
        "print (\"This is data Engeering\")"
      ]
    },
    {
      "cell_type": "markdown",
      "source": [
        "Data Types"
      ],
      "metadata": {
        "id": "1lgZTnzXHZen"
      }
    },
    {
      "cell_type": "code",
      "source": [
        "int_var= 7\n",
        "float_var=3.55\n",
        "str_var=\"Hellow World\"\n",
        "bol_var= True"
      ],
      "metadata": {
        "id": "4fFAvv71HcFy"
      },
      "execution_count": 3,
      "outputs": []
    },
    {
      "cell_type": "code",
      "source": [
        "print (int_var)"
      ],
      "metadata": {
        "id": "Ycht8QKtIXLW",
        "outputId": "4a030bae-b34c-428d-a5fb-31731bb59e2a",
        "colab": {
          "base_uri": "https://localhost:8080/"
        }
      },
      "execution_count": 4,
      "outputs": [
        {
          "output_type": "stream",
          "name": "stdout",
          "text": [
            "7\n"
          ]
        }
      ]
    }
  ]
}